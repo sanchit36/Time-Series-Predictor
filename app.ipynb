{
 "cells": [
  {
   "cell_type": "markdown",
   "metadata": {},
   "source": [
    "# Time Series Predictor\n",
    "\n",
    "Prediction in time series dataset"
   ]
  },
  {
   "cell_type": "markdown",
   "metadata": {},
   "source": [
    "### STEP 1: READ DATA"
   ]
  },
  {
   "cell_type": "code",
   "execution_count": 81,
   "metadata": {},
   "outputs": [
    {
     "name": "stderr",
     "output_type": "stream",
     "text": [
      "d:\\Projects\\time-series-project\\env\\lib\\site-packages\\openpyxl\\worksheet\\_reader.py:312: UserWarning: Unknown extension is not supported and will be removed\n",
      "  warn(msg)\n",
      "d:\\Projects\\time-series-project\\env\\lib\\site-packages\\openpyxl\\worksheet\\_reader.py:312: UserWarning: Conditional Formatting extension is not supported and will be removed\n",
      "  warn(msg)\n"
     ]
    },
    {
     "data": {
      "text/plain": [
       "Unnamed: 0     object\n",
       "year            int64\n",
       "Para-1        float64\n",
       "Para-2        float64\n",
       "Para-3        float64\n",
       "Para-4        float64\n",
       "Para-5          int64\n",
       "Para-6          int64\n",
       "Para-7          int64\n",
       "Para-8          int64\n",
       "Para-9        float64\n",
       "Para-10       float64\n",
       "Para-11       float64\n",
       "Para-12         int64\n",
       "Para-13       float64\n",
       "dtype: object"
      ]
     },
     "execution_count": 81,
     "metadata": {},
     "output_type": "execute_result"
    }
   ],
   "source": [
    "import pandas as pd\n",
    "import numpy as np\n",
    "import math\n",
    "df = pd.read_excel('./DATASET.xlsx')\n",
    "df.dtypes"
   ]
  },
  {
   "cell_type": "markdown",
   "metadata": {},
   "source": [
    "### PART 2: REMOVING IRREVERENT ENTRIES\n",
    "\n",
    "**1.) REMOVED SECTIONS WHERE DATA FOR 10TH ROW IS ABSENT**\n",
    "\n",
    "**2.) CREATING SEPARATE SECTION FILES OF VALID SECTIONS**"
   ]
  },
  {
   "cell_type": "code",
   "execution_count": 82,
   "metadata": {},
   "outputs": [
    {
     "name": "stderr",
     "output_type": "stream",
     "text": [
      "C:\\Users\\hp\\AppData\\Local\\Temp\\ipykernel_18368\\36977139.py:24: FutureWarning: The frame.append method is deprecated and will be removed from pandas in a future version. Use pandas.concat instead.\n",
      "  df2 = df2.append(df.loc[i:j-1,:])\n",
      "C:\\Users\\hp\\AppData\\Local\\Temp\\ipykernel_18368\\36977139.py:25: FutureWarning: The frame.append method is deprecated and will be removed from pandas in a future version. Use pandas.concat instead.\n",
      "  new_df = new_df.append(df.loc[i:j-1,:])\n",
      "C:\\Users\\hp\\AppData\\Local\\Temp\\ipykernel_18368\\36977139.py:25: FutureWarning: The frame.append method is deprecated and will be removed from pandas in a future version. Use pandas.concat instead.\n",
      "  new_df = new_df.append(df.loc[i:j-1,:])\n",
      "C:\\Users\\hp\\AppData\\Local\\Temp\\ipykernel_18368\\36977139.py:24: FutureWarning: The frame.append method is deprecated and will be removed from pandas in a future version. Use pandas.concat instead.\n",
      "  df2 = df2.append(df.loc[i:j-1,:])\n",
      "C:\\Users\\hp\\AppData\\Local\\Temp\\ipykernel_18368\\36977139.py:25: FutureWarning: The frame.append method is deprecated and will be removed from pandas in a future version. Use pandas.concat instead.\n",
      "  new_df = new_df.append(df.loc[i:j-1,:])\n",
      "C:\\Users\\hp\\AppData\\Local\\Temp\\ipykernel_18368\\36977139.py:24: FutureWarning: The frame.append method is deprecated and will be removed from pandas in a future version. Use pandas.concat instead.\n",
      "  df2 = df2.append(df.loc[i:j-1,:])\n",
      "C:\\Users\\hp\\AppData\\Local\\Temp\\ipykernel_18368\\36977139.py:25: FutureWarning: The frame.append method is deprecated and will be removed from pandas in a future version. Use pandas.concat instead.\n",
      "  new_df = new_df.append(df.loc[i:j-1,:])\n",
      "C:\\Users\\hp\\AppData\\Local\\Temp\\ipykernel_18368\\36977139.py:24: FutureWarning: The frame.append method is deprecated and will be removed from pandas in a future version. Use pandas.concat instead.\n",
      "  df2 = df2.append(df.loc[i:j-1,:])\n",
      "C:\\Users\\hp\\AppData\\Local\\Temp\\ipykernel_18368\\36977139.py:25: FutureWarning: The frame.append method is deprecated and will be removed from pandas in a future version. Use pandas.concat instead.\n",
      "  new_df = new_df.append(df.loc[i:j-1,:])\n",
      "C:\\Users\\hp\\AppData\\Local\\Temp\\ipykernel_18368\\36977139.py:24: FutureWarning: The frame.append method is deprecated and will be removed from pandas in a future version. Use pandas.concat instead.\n",
      "  df2 = df2.append(df.loc[i:j-1,:])\n",
      "C:\\Users\\hp\\AppData\\Local\\Temp\\ipykernel_18368\\36977139.py:25: FutureWarning: The frame.append method is deprecated and will be removed from pandas in a future version. Use pandas.concat instead.\n",
      "  new_df = new_df.append(df.loc[i:j-1,:])\n",
      "C:\\Users\\hp\\AppData\\Local\\Temp\\ipykernel_18368\\36977139.py:24: FutureWarning: The frame.append method is deprecated and will be removed from pandas in a future version. Use pandas.concat instead.\n",
      "  df2 = df2.append(df.loc[i:j-1,:])\n",
      "C:\\Users\\hp\\AppData\\Local\\Temp\\ipykernel_18368\\36977139.py:25: FutureWarning: The frame.append method is deprecated and will be removed from pandas in a future version. Use pandas.concat instead.\n",
      "  new_df = new_df.append(df.loc[i:j-1,:])\n",
      "C:\\Users\\hp\\AppData\\Local\\Temp\\ipykernel_18368\\36977139.py:24: FutureWarning: The frame.append method is deprecated and will be removed from pandas in a future version. Use pandas.concat instead.\n",
      "  df2 = df2.append(df.loc[i:j-1,:])\n",
      "C:\\Users\\hp\\AppData\\Local\\Temp\\ipykernel_18368\\36977139.py:25: FutureWarning: The frame.append method is deprecated and will be removed from pandas in a future version. Use pandas.concat instead.\n",
      "  new_df = new_df.append(df.loc[i:j-1,:])\n",
      "C:\\Users\\hp\\AppData\\Local\\Temp\\ipykernel_18368\\36977139.py:24: FutureWarning: The frame.append method is deprecated and will be removed from pandas in a future version. Use pandas.concat instead.\n",
      "  df2 = df2.append(df.loc[i:j-1,:])\n",
      "C:\\Users\\hp\\AppData\\Local\\Temp\\ipykernel_18368\\36977139.py:25: FutureWarning: The frame.append method is deprecated and will be removed from pandas in a future version. Use pandas.concat instead.\n",
      "  new_df = new_df.append(df.loc[i:j-1,:])\n"
     ]
    }
   ],
   "source": [
    "import os\n",
    "path = './sections/'\n",
    "isExist = os.path.exists(path)\n",
    "if not isExist:\n",
    "  os.makedirs(path)\n",
    "\n",
    "df2 = pd.DataFrame()\n",
    "sec_no = \"\"\n",
    "i = 0\n",
    "new_df = pd.DataFrame()\n",
    "while i < len(df):\n",
    "    j = 0\n",
    "    if type(df.iloc[i][0])==str:\n",
    "        sec_no = df.iloc[i][0]\n",
    "        j+=1\n",
    "    j+=i\n",
    "    exist = False\n",
    "    while j < len(df) and type(df.iloc[j][0])!=str:\n",
    "        if df.iloc[j][1] == 10:\n",
    "            exist = True\n",
    "        j += 1\n",
    "    \n",
    "    if(exist):\n",
    "        df2 = df2.append(df.loc[i:j-1,:])\n",
    "        new_df = new_df.append(df.loc[i:j-1,:])\n",
    "        new_df.to_csv('./sections/'+sec_no+'.csv',index=False)\n",
    "        new_df = new_df.iloc[0:0]\n",
    "    i = j\n",
    "\n",
    "df2.reset_index(inplace=True,drop=True)"
   ]
  },
  {
   "cell_type": "markdown",
   "metadata": {},
   "source": [
    "### SECTION 3: ANALYSIS PHASE"
   ]
  },
  {
   "cell_type": "code",
   "execution_count": 83,
   "metadata": {},
   "outputs": [],
   "source": [
    "#importing libraries\n",
    "from xgboost import XGBRegressor\n",
    "import matplotlib.pyplot as plt\n",
    "from sklearn.metrics import mean_squared_error"
   ]
  },
  {
   "cell_type": "code",
   "execution_count": 84,
   "metadata": {},
   "outputs": [],
   "source": [
    "df2.dropna(axis = 0, how ='any', subset = None, inplace=True)"
   ]
  },
  {
   "cell_type": "code",
   "execution_count": 85,
   "metadata": {},
   "outputs": [
    {
     "data": {
      "text/plain": [
       "Unnamed: 0    0\n",
       "year          0\n",
       "Para-1        0\n",
       "Para-2        0\n",
       "Para-3        0\n",
       "Para-4        0\n",
       "Para-5        0\n",
       "Para-6        0\n",
       "Para-7        0\n",
       "Para-8        0\n",
       "Para-9        0\n",
       "Para-10       0\n",
       "Para-11       0\n",
       "Para-12       0\n",
       "Para-13       0\n",
       "dtype: int64"
      ]
     },
     "execution_count": 85,
     "metadata": {},
     "output_type": "execute_result"
    }
   ],
   "source": [
    "df2.isna().sum()"
   ]
  },
  {
   "cell_type": "code",
   "execution_count": 86,
   "metadata": {},
   "outputs": [
    {
     "name": "stdout",
     "output_type": "stream",
     "text": [
      "sections\\Sec_1.csv\n",
      "sections\\Sec_10.csv\n",
      "sections\\Sec_100.csv\n",
      "sections\\Sec_101.csv\n",
      "sections\\Sec_11.csv\n",
      "sections\\Sec_12.csv\n",
      "sections\\Sec_13.csv\n",
      "sections\\Sec_14.csv\n",
      "sections\\Sec_15.csv\n",
      "sections\\Sec_16.csv\n",
      "sections\\Sec_17.csv\n",
      "sections\\Sec_18.csv\n",
      "sections\\Sec_19.csv\n",
      "sections\\Sec_2.csv\n",
      "sections\\Sec_20.csv\n",
      "sections\\Sec_21.csv\n",
      "sections\\Sec_22.csv\n",
      "sections\\Sec_23.csv\n",
      "sections\\Sec_24.csv\n",
      "sections\\Sec_25.csv\n",
      "sections\\Sec_26.csv\n",
      "sections\\Sec_27.csv\n",
      "sections\\Sec_28.csv\n",
      "sections\\Sec_29.csv\n",
      "sections\\Sec_3.csv\n",
      "sections\\Sec_30.csv\n",
      "sections\\Sec_31.csv\n",
      "sections\\Sec_32.csv\n",
      "sections\\Sec_33.csv\n",
      "sections\\Sec_34.csv\n",
      "sections\\Sec_35.csv\n",
      "sections\\Sec_36.csv\n",
      "sections\\Sec_37.csv\n",
      "sections\\Sec_38.csv\n",
      "sections\\Sec_39.csv\n",
      "sections\\Sec_4.csv\n",
      "sections\\Sec_40.csv\n",
      "sections\\Sec_41.csv\n",
      "sections\\Sec_42.csv\n",
      "sections\\Sec_43.csv\n",
      "sections\\Sec_44.csv\n",
      "sections\\Sec_45.csv\n",
      "sections\\Sec_46.csv\n",
      "sections\\Sec_47.csv\n",
      "sections\\Sec_48.csv\n",
      "sections\\Sec_49.csv\n",
      "sections\\Sec_5.csv\n",
      "sections\\Sec_50.csv\n",
      "sections\\Sec_51.csv\n",
      "sections\\Sec_52.csv\n",
      "sections\\Sec_53.csv\n",
      "sections\\Sec_54.csv\n",
      "sections\\Sec_55.csv\n",
      "sections\\Sec_56.csv\n",
      "sections\\Sec_57.csv\n",
      "sections\\Sec_58.csv\n",
      "sections\\Sec_59.csv\n",
      "sections\\Sec_6.csv\n",
      "sections\\Sec_60.csv\n",
      "sections\\Sec_61.csv\n",
      "sections\\Sec_62.csv\n",
      "sections\\Sec_63.csv\n",
      "sections\\Sec_64.csv\n",
      "sections\\Sec_65.csv\n",
      "sections\\Sec_66.csv\n",
      "sections\\Sec_67.csv\n",
      "sections\\Sec_68.csv\n",
      "sections\\Sec_69.csv\n",
      "sections\\Sec_7.csv\n",
      "sections\\Sec_70.csv\n",
      "sections\\Sec_71.csv\n",
      "sections\\Sec_72.csv\n",
      "sections\\Sec_73.csv\n",
      "sections\\Sec_74.csv\n",
      "sections\\Sec_75.csv\n",
      "sections\\Sec_76.csv\n",
      "sections\\Sec_77.csv\n",
      "sections\\Sec_78.csv\n",
      "sections\\Sec_79.csv\n",
      "sections\\Sec_8.csv\n",
      "sections\\Sec_80.csv\n",
      "sections\\Sec_81.csv\n",
      "sections\\Sec_82.csv\n",
      "sections\\Sec_83.csv\n",
      "sections\\Sec_84.csv\n",
      "sections\\Sec_85.csv\n",
      "sections\\Sec_86.csv\n",
      "sections\\Sec_87.csv\n",
      "sections\\Sec_88.csv\n",
      "sections\\Sec_89.csv\n",
      "sections\\Sec_9.csv\n",
      "sections\\Sec_90.csv\n",
      "sections\\Sec_91.csv\n",
      "sections\\Sec_93.csv\n",
      "sections\\Sec_94.csv\n",
      "sections\\Sec_95.csv\n",
      "sections\\Sec_96.csv\n",
      "sections\\Sec_97.csv\n",
      "sections\\Sec_98.csv\n",
      "sections\\Sec_99.csv\n"
     ]
    }
   ],
   "source": [
    "import glob\n",
    "import os\n",
    "path = os.path.join('sections', '*.csv')\n",
    "for fname in glob.glob(path):\n",
    "    print(fname)\n",
    "    tdf = pd.read_csv(fname)\n",
    "    tdf.drop(columns=['Unnamed: 0'],inplace=True)\n",
    "    tdf.dropna(axis = 0, how ='any', subset = None, inplace=True)\n",
    "    sec_no = fname.split('\\\\')[1].split('.')[0]\n",
    "    rmse_df = pd.DataFrame()\n",
    "\n",
    "\n",
    "    for i in range(9,14):\n",
    "        folder_path = './rmse comparisons/'\n",
    "        isExist = os.path.exists(folder_path)\n",
    "        if not isExist:\n",
    "            os.makedirs(folder_path)\n",
    "\n",
    "        x = tdf.drop(columns=['Para-9', 'Para-10',\t'Para-11',\t'Para-12',\t'Para-13'], axis=1)\n",
    "        y = tdf['Para-'+str(i)]\n",
    "        x_train, x_test = x.iloc[:-1, :], x.iloc[-1:, :]\n",
    "        y_train, y_test = y.iloc[:-1], y.iloc[-1:]\n",
    "\n",
    "        model = XGBRegressor(booster='dart')\n",
    "        model.fit(x_train, y_train)\n",
    "        predictions = model.predict(x_test)\n",
    "        rmse = np.round(math.sqrt(mean_squared_error(y_test, predictions)), 3)\n",
    "        actual = y_test.values\n",
    "        rmse_df.loc[0, 'Para-'+str(i)] = actual[0]\n",
    "        rmse_df.loc[1, 'Para-'+str(i)] = np.round(predictions[0], 3)\n",
    "        rmse_df.loc[2, 'Para-'+str(i)] = rmse\n",
    "    \n",
    "    rmse_df.to_csv(folder_path+'/'+sec_no+'.csv', index=False)"
   ]
  },
  {
   "cell_type": "markdown",
   "metadata": {},
   "source": [
    "### PART 4: PLOTTING DATA and CALCULATING ERRORS"
   ]
  },
  {
   "cell_type": "code",
   "execution_count": 87,
   "metadata": {},
   "outputs": [],
   "source": [
    "rmse_collection = []\n",
    "\n",
    "folder_path = os.path.join('graphs')\n",
    "isExist = os.path.exists(folder_path)\n",
    "if not isExist:\n",
    "  os.makedirs(folder_path)\n",
    "\n",
    "path = os.path.join('rmse comparisons', '*.csv')\n",
    "for fname in glob.glob(path):\n",
    "  rmse_df = pd.read_csv(fname)\n",
    "  sec_no = fname.split('\\\\')[1].split('.')[0]\n",
    "\n",
    "  mean_rmse = np.round(rmse_df.iloc[2, :].mean(axis=0), 3)\n",
    "  rmse_collection.append(mean_rmse)\n",
    "  line_1 = rmse_df.iloc[0, :]\n",
    "  line_2 = rmse_df.iloc[1, :]\n",
    "  fig, ax = plt.subplots()\n",
    "  ax.plot(line_1, color = 'green', label = 'Actual Data')\n",
    "  ax.plot(line_2, color = 'red', label = 'Predicted Data')\n",
    "  plt.title(\"RMSE Graph: \"+str(mean_rmse))\n",
    "  ax.legend()\n",
    "  plt.savefig(\"./graphs/\"+str(sec_no)+\".png\")\n",
    "  plt.close()"
   ]
  },
  {
   "cell_type": "code",
   "execution_count": 88,
   "metadata": {},
   "outputs": [
    {
     "name": "stdout",
     "output_type": "stream",
     "text": [
      "RMSE:  9.024\n"
     ]
    }
   ],
   "source": [
    "# FINAL RMSE ERROR\n",
    "\n",
    "f_rmse = sum(rmse_collection)/len(rmse_collection)\n",
    "print(\"RMSE: \", np.round(f_rmse, 3))"
   ]
  }
 ],
 "metadata": {
  "kernelspec": {
   "display_name": "Python 3.10.6 ('env': venv)",
   "language": "python",
   "name": "python3"
  },
  "language_info": {
   "codemirror_mode": {
    "name": "ipython",
    "version": 3
   },
   "file_extension": ".py",
   "mimetype": "text/x-python",
   "name": "python",
   "nbconvert_exporter": "python",
   "pygments_lexer": "ipython3",
   "version": "3.10.6"
  },
  "orig_nbformat": 4,
  "vscode": {
   "interpreter": {
    "hash": "1aeef894f638216db8db239e68f07bdc88460f267640bcb0670915db57d953d8"
   }
  }
 },
 "nbformat": 4,
 "nbformat_minor": 2
}
